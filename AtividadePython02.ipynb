{
  "nbformat": 4,
  "nbformat_minor": 0,
  "metadata": {
    "colab": {
      "provenance": [],
      "collapsed_sections": [
        "tlLPonQOyM8H",
        "xWGU5Yc2yWaH",
        "VwGNaYeW0SGJ",
        "vsvOxe-C04_p",
        "L1kn60GK1Pr4",
        "FcXX_Mvy13xB",
        "1EQpWoX92J8w",
        "uaAfLNGo2lqR"
      ],
      "authorship_tag": "ABX9TyPBZB8DiVmxiVWyhsXE4Zb5",
      "include_colab_link": true
    },
    "kernelspec": {
      "name": "python3",
      "display_name": "Python 3"
    },
    "language_info": {
      "name": "python"
    }
  },
  "cells": [
    {
      "cell_type": "markdown",
      "metadata": {
        "id": "view-in-github",
        "colab_type": "text"
      },
      "source": [
        "<a href=\"https://colab.research.google.com/github/trVitor/PythonBasic/blob/main/AtividadePython02.ipynb\" target=\"_parent\"><img src=\"https://colab.research.google.com/assets/colab-badge.svg\" alt=\"Open In Colab\"/></a>"
      ]
    },
    {
      "cell_type": "markdown",
      "source": [
        "#1) Imprimir seu nome com uma letra por linha\n"
      ],
      "metadata": {
        "id": "tlLPonQOyM8H"
      }
    },
    {
      "cell_type": "code",
      "source": [
        "import time\n",
        "\n",
        "print ('Digite seu nome: ')\n",
        "nome = input ()\n",
        "\n",
        "for n in nome:\n",
        "    time.sleep(0.3)\n",
        "    print (n)"
      ],
      "metadata": {
        "id": "GgCdTmUYyQiA"
      },
      "execution_count": null,
      "outputs": []
    },
    {
      "cell_type": "markdown",
      "source": [
        "# 2) Escreva uma função que receba uma string e conte o número de vogais dentro dela, por exemplo: entrada: 'Ciência de Dados'"
      ],
      "metadata": {
        "id": "xWGU5Yc2yWaH"
      }
    },
    {
      "cell_type": "code",
      "source": [
        "from unicodedata import normalize\n",
        "\n",
        "\n",
        "frase = str(input('Digite uma frase: '))\n",
        "vogais = 'aeiou'\n",
        "qnt_vogais = 0\n",
        "for v in normalize('NFD', frase.lower()):\n",
        "    if v in vogais:\n",
        "        qnt_vogais += 1\n",
        "\n",
        "print('Existem ' + str(qnt_vogais) + ', vogais')"
      ],
      "metadata": {
        "id": "bYZt5EPCybK4"
      },
      "execution_count": null,
      "outputs": []
    },
    {
      "cell_type": "markdown",
      "source": [
        "# 3) Desenha moldura. Construa uma função que desenhe um retângulo usando os caracteres '+' , '−' e '| '.Esta função deve receber dois parâmetros, linhas e colunas, sendo que o valor por omissão é o valor mínimo igual a 1 e o valor máximo é 20. Se valores fora da faixa forem informados, eles devem ser modificados para valores dentro da faixa de forma elegante."
      ],
      "metadata": {
        "id": "VwGNaYeW0SGJ"
      }
    },
    {
      "cell_type": "code",
      "source": [
        "def valor_por_omissao(valor):\n",
        "    if valor == '':\n",
        "        return int(1)\n",
        "    else:\n",
        "        return faixa_minima_maxima(int(valor))\n",
        "\n",
        "\n",
        "def faixa_minima_maxima(valor):\n",
        "    if valor < 1:\n",
        "        return 1\n",
        "    elif valor > 20:\n",
        "        return 20\n",
        "    else:\n",
        "        return valor\n",
        "\n",
        "\n",
        "def cria_linha(linha):\n",
        "    l = '+'\n",
        "    for x in range(linha):\n",
        "        l += '-'\n",
        "    l += '+'\n",
        "    print(l)\n",
        "\n",
        "\n",
        "def cria_coluna(linha, coluna):\n",
        "    for y in range(coluna):\n",
        "        c = '|'\n",
        "        c += ' '*linha\n",
        "        c += '|'\n",
        "        print(c)\n",
        "\n",
        "\n",
        "def desenha_moldura(linha, coluna):\n",
        "    cria_linha(linha)\n",
        "    cria_coluna(linha, coluna)\n",
        "    cria_linha(linha)\n",
        "\n",
        "\n",
        "linha = input('Diga quantos +----+, entre 1 e 20: ')\n",
        "coluna = input('Diga quantos |     |, entre 1 e 20: ')\n",
        "desenha_moldura(valor_por_omissao(linha), valor_por_omissao(coluna))"
      ],
      "metadata": {
        "id": "FPvsjyO-0WxK"
      },
      "execution_count": null,
      "outputs": []
    },
    {
      "cell_type": "markdown",
      "source": [
        "#4) Crie um função que retorna o resto de uma divisão\n"
      ],
      "metadata": {
        "id": "vsvOxe-C04_p"
      }
    },
    {
      "cell_type": "code",
      "source": [
        "def divisao():\n",
        "    divisor= int(input(\"Digite o divisor: \"))\n",
        "    dividendo= int(input(\"Digite o divendo: \"))\n",
        "    resultado = divisor % dividendo\n",
        "    if resultado == 0:\n",
        "        print('Essa divisão não possui resto.')\n",
        "    else:\n",
        "        print('O resto da divisão é: ' + str(resultado))\n",
        "divisao()"
      ],
      "metadata": {
        "id": "sijGNgyS05gC"
      },
      "execution_count": null,
      "outputs": []
    },
    {
      "cell_type": "markdown",
      "source": [],
      "metadata": {
        "id": "5YG08UNB1OsR"
      }
    },
    {
      "cell_type": "markdown",
      "source": [
        "# 5) Escreva um programa que pergunte a quantidade de km percorridos por um carro alugado pelo usuário, assim como a quantidade de dias pelos quais o carro foi alugado. Calcule o preço a pagar, sabendo que o carro custa R$ 60,00 por dia e R$ 0,15 por km rodado."
      ],
      "metadata": {
        "id": "L1kn60GK1Pr4"
      }
    },
    {
      "cell_type": "code",
      "source": [
        "km_percorrido = int(input('Digite a quantidade de KM percorridos: '))\n",
        "dias_alugados = int(input('Digite a quantidade de dias alugados: '))\n",
        "dia_aluguel = 60\n",
        "km_rodado = 0.15\n",
        "\n",
        "valor_aluguel = dias_alugados*dia_aluguel\n",
        "\n",
        "valor_km = km_percorrido*km_rodado\n",
        "\n",
        "valor_total = valor_aluguel+valor_km\n",
        "\n",
        "print('O valor total a ser pago é de: ' + str(valor_total))"
      ],
      "metadata": {
        "id": "XgeSAnfU1Vzx"
      },
      "execution_count": null,
      "outputs": []
    },
    {
      "cell_type": "markdown",
      "source": [],
      "metadata": {
        "id": "UpOcceGU12qK"
      }
    },
    {
      "cell_type": "markdown",
      "source": [
        "#6) Escreva um programa para calcular a redução do tempo de vida de um fumante. Pergunte a quantidade de cigarros fumados por dia e quantos anos ele já fumou. Considere que um fumante perde 10 minutos de vida a cada cigarro, e calcule quantos dias de vida um fumante perderá. Exiba o total em dias."
      ],
      "metadata": {
        "id": "FcXX_Mvy13xB"
      }
    },
    {
      "cell_type": "code",
      "source": [
        "qnt_cigarros= int(input('Digite quantos cigarros você fuma por dia: '))\n",
        "anos_fumando= int(input('Digite a quantos anos você fuma : '))\n",
        "\n",
        "reducao_temp_vida = anos_fumando * 365 * qnt_cigarros * 10\n",
        "\n",
        "reducao_dias= reducao_temp_vida / (24*60)\n",
        "\n",
        "print('Você pode ter perdido até: %.2f dias de vida !!' % reducao_dias )"
      ],
      "metadata": {
        "id": "1GLth-Ba1_GK"
      },
      "execution_count": null,
      "outputs": []
    },
    {
      "cell_type": "markdown",
      "source": [
        "#7) Validar e corrigir número de telefone. Faça um programa que leia um número de telefone, e corrija o número no caso deste conter somente 7 dígitos acrescentando o '3' na frente. O usuário pode informar o número com ou sem o traço separador"
      ],
      "metadata": {
        "id": "1EQpWoX92J8w"
      }
    },
    {
      "cell_type": "code",
      "source": [
        "def corrigir_telefone(telefone, formatar=True):\n",
        "    telefone_sem_hifen = telefone.replace('-', '')\n",
        "    qtd_caracteres = len(telefone_sem_hifen)\n",
        "    telefone_corrigido = telefone_sem_hifen\n",
        "\n",
        "    if qtd_caracteres < 8:\n",
        "        caracteres_faltantes = 8 - qtd_caracteres\n",
        "        telefone_corrigido = caracteres_faltantes * '3' + telefone_sem_hifen\n",
        "\n",
        "    if formatar:\n",
        "        telefone_corrigido = telefone_corrigido[0:4] + '-' + telefone_corrigido[4:8]\n",
        "\n",
        "    return telefone_corrigido\n",
        "\n",
        "\n",
        "if __name__ == '__main__':\n",
        "    print('Valida e corrige número de telefone:')\n",
        "    telefone = str(input('Digite o numero do telefone: '))\n",
        "\n",
        "    print('Telefone corrigido sem formatação:', corrigir_telefone(telefone, formatar=False))\n",
        "    print('Telefone corrigido com formatação:', corrigir_telefone(telefone))"
      ],
      "metadata": {
        "id": "vd0mOjlz2QLg"
      },
      "execution_count": null,
      "outputs": []
    },
    {
      "cell_type": "markdown",
      "source": [
        "#8) Faça uma função Calculadora que recebe uma expressão matemática e retorna o resultado Ex: Entrada: Digite uma expressão matemática: 4+5 Saída: O resultado é 9"
      ],
      "metadata": {
        "id": "uaAfLNGo2lqR"
      }
    },
    {
      "cell_type": "code",
      "source": [
        "expressao_matematica=input('Digite a expressão matemática: ')\n",
        "resultado = eval(expressao_matematica)\n",
        "print('O resultado da expressão matemática é: ' + str(resultado))"
      ],
      "metadata": {
        "id": "N0JVr2FZ2vjK"
      },
      "execution_count": null,
      "outputs": []
    }
  ]
}